{
 "cells": [
  {
   "cell_type": "code",
   "execution_count": 1,
   "metadata": {},
   "outputs": [],
   "source": [
    "#!conda install -y geopandas folium"
   ]
  },
  {
   "cell_type": "code",
   "execution_count": 2,
   "metadata": {},
   "outputs": [],
   "source": [
    "#!pip install osmnx"
   ]
  },
  {
   "cell_type": "markdown",
   "metadata": {},
   "source": [
    "# Setup"
   ]
  },
  {
   "cell_type": "code",
   "execution_count": 3,
   "metadata": {},
   "outputs": [],
   "source": [
    "import geopandas as gpd\n",
    "import osmnx as ox\n",
    "import folium\n",
    "import pandas as pd\n",
    "from shapely.geometry import Point"
   ]
  },
  {
   "cell_type": "markdown",
   "metadata": {},
   "source": [
    "# World boundaries"
   ]
  },
  {
   "cell_type": "code",
   "execution_count": 4,
   "metadata": {},
   "outputs": [],
   "source": [
    "world = gpd.read_file('./boundaries/boundaries.shp')"
   ]
  },
  {
   "cell_type": "code",
   "execution_count": 5,
   "metadata": {},
   "outputs": [
    {
     "data": {
      "text/html": [
       "<div>\n",
       "<style scoped>\n",
       "    .dataframe tbody tr th:only-of-type {\n",
       "        vertical-align: middle;\n",
       "    }\n",
       "\n",
       "    .dataframe tbody tr th {\n",
       "        vertical-align: top;\n",
       "    }\n",
       "\n",
       "    .dataframe thead th {\n",
       "        text-align: right;\n",
       "    }\n",
       "</style>\n",
       "<table border=\"1\" class=\"dataframe\">\n",
       "  <thead>\n",
       "    <tr style=\"text-align: right;\">\n",
       "      <th></th>\n",
       "      <th>featurecla</th>\n",
       "      <th>scalerank</th>\n",
       "      <th>LABELRANK</th>\n",
       "      <th>SOVEREIGNT</th>\n",
       "      <th>SOV_A3</th>\n",
       "      <th>ADM0_DIF</th>\n",
       "      <th>LEVEL</th>\n",
       "      <th>TYPE</th>\n",
       "      <th>ADMIN</th>\n",
       "      <th>ADM0_A3</th>\n",
       "      <th>...</th>\n",
       "      <th>NAME_KO</th>\n",
       "      <th>NAME_NL</th>\n",
       "      <th>NAME_PL</th>\n",
       "      <th>NAME_PT</th>\n",
       "      <th>NAME_RU</th>\n",
       "      <th>NAME_SV</th>\n",
       "      <th>NAME_TR</th>\n",
       "      <th>NAME_VI</th>\n",
       "      <th>NAME_ZH</th>\n",
       "      <th>geometry</th>\n",
       "    </tr>\n",
       "  </thead>\n",
       "  <tbody>\n",
       "    <tr>\n",
       "      <th>0</th>\n",
       "      <td>Admin-0 country</td>\n",
       "      <td>1</td>\n",
       "      <td>3</td>\n",
       "      <td>Zimbabwe</td>\n",
       "      <td>ZWE</td>\n",
       "      <td>0</td>\n",
       "      <td>2</td>\n",
       "      <td>Sovereign country</td>\n",
       "      <td>Zimbabwe</td>\n",
       "      <td>ZWE</td>\n",
       "      <td>...</td>\n",
       "      <td>짐바브웨</td>\n",
       "      <td>Zimbabwe</td>\n",
       "      <td>Zimbabwe</td>\n",
       "      <td>Zimbábue</td>\n",
       "      <td>Зимбабве</td>\n",
       "      <td>Zimbabwe</td>\n",
       "      <td>Zimbabve</td>\n",
       "      <td>Zimbabwe</td>\n",
       "      <td>辛巴威</td>\n",
       "      <td>POLYGON ((31.28789 -22.40205, 31.19727 -22.344...</td>\n",
       "    </tr>\n",
       "    <tr>\n",
       "      <th>1</th>\n",
       "      <td>Admin-0 country</td>\n",
       "      <td>1</td>\n",
       "      <td>3</td>\n",
       "      <td>Zambia</td>\n",
       "      <td>ZMB</td>\n",
       "      <td>0</td>\n",
       "      <td>2</td>\n",
       "      <td>Sovereign country</td>\n",
       "      <td>Zambia</td>\n",
       "      <td>ZMB</td>\n",
       "      <td>...</td>\n",
       "      <td>잠비아</td>\n",
       "      <td>Zambia</td>\n",
       "      <td>Zambia</td>\n",
       "      <td>Zâmbia</td>\n",
       "      <td>Замбия</td>\n",
       "      <td>Zambia</td>\n",
       "      <td>Zambiya</td>\n",
       "      <td>Zambia</td>\n",
       "      <td>赞比亚</td>\n",
       "      <td>POLYGON ((30.39609 -15.64307, 30.25068 -15.643...</td>\n",
       "    </tr>\n",
       "    <tr>\n",
       "      <th>2</th>\n",
       "      <td>Admin-0 country</td>\n",
       "      <td>1</td>\n",
       "      <td>3</td>\n",
       "      <td>Yemen</td>\n",
       "      <td>YEM</td>\n",
       "      <td>0</td>\n",
       "      <td>2</td>\n",
       "      <td>Sovereign country</td>\n",
       "      <td>Yemen</td>\n",
       "      <td>YEM</td>\n",
       "      <td>...</td>\n",
       "      <td>예멘</td>\n",
       "      <td>Jemen</td>\n",
       "      <td>Jemen</td>\n",
       "      <td>Iémen</td>\n",
       "      <td>Йемен</td>\n",
       "      <td>Jemen</td>\n",
       "      <td>Yemen</td>\n",
       "      <td>Yemen</td>\n",
       "      <td>也门</td>\n",
       "      <td>MULTIPOLYGON (((53.08564 16.64839, 52.58145 16...</td>\n",
       "    </tr>\n",
       "    <tr>\n",
       "      <th>3</th>\n",
       "      <td>Admin-0 country</td>\n",
       "      <td>3</td>\n",
       "      <td>2</td>\n",
       "      <td>Vietnam</td>\n",
       "      <td>VNM</td>\n",
       "      <td>0</td>\n",
       "      <td>2</td>\n",
       "      <td>Sovereign country</td>\n",
       "      <td>Vietnam</td>\n",
       "      <td>VNM</td>\n",
       "      <td>...</td>\n",
       "      <td>베트남</td>\n",
       "      <td>Vietnam</td>\n",
       "      <td>Wietnam</td>\n",
       "      <td>Vietname</td>\n",
       "      <td>Вьетнам</td>\n",
       "      <td>Vietnam</td>\n",
       "      <td>Vietnam</td>\n",
       "      <td>Việt Nam</td>\n",
       "      <td>越南</td>\n",
       "      <td>MULTIPOLYGON (((104.06396 10.39082, 104.08301 ...</td>\n",
       "    </tr>\n",
       "    <tr>\n",
       "      <th>4</th>\n",
       "      <td>Admin-0 country</td>\n",
       "      <td>5</td>\n",
       "      <td>3</td>\n",
       "      <td>Venezuela</td>\n",
       "      <td>VEN</td>\n",
       "      <td>0</td>\n",
       "      <td>2</td>\n",
       "      <td>Sovereign country</td>\n",
       "      <td>Venezuela</td>\n",
       "      <td>VEN</td>\n",
       "      <td>...</td>\n",
       "      <td>베네수엘라</td>\n",
       "      <td>Venezuela</td>\n",
       "      <td>Wenezuela</td>\n",
       "      <td>Venezuela</td>\n",
       "      <td>Венесуэла</td>\n",
       "      <td>Venezuela</td>\n",
       "      <td>Venezuela</td>\n",
       "      <td>Venezuela</td>\n",
       "      <td>委內瑞拉</td>\n",
       "      <td>MULTIPOLYGON (((-60.82119 9.13838, -60.94141 9...</td>\n",
       "    </tr>\n",
       "  </tbody>\n",
       "</table>\n",
       "<p>5 rows × 95 columns</p>\n",
       "</div>"
      ],
      "text/plain": [
       "        featurecla  scalerank  LABELRANK SOVEREIGNT SOV_A3  ADM0_DIF  LEVEL  \\\n",
       "0  Admin-0 country          1          3   Zimbabwe    ZWE         0      2   \n",
       "1  Admin-0 country          1          3     Zambia    ZMB         0      2   \n",
       "2  Admin-0 country          1          3      Yemen    YEM         0      2   \n",
       "3  Admin-0 country          3          2    Vietnam    VNM         0      2   \n",
       "4  Admin-0 country          5          3  Venezuela    VEN         0      2   \n",
       "\n",
       "                TYPE      ADMIN ADM0_A3  ...  NAME_KO    NAME_NL    NAME_PL  \\\n",
       "0  Sovereign country   Zimbabwe     ZWE  ...     짐바브웨   Zimbabwe   Zimbabwe   \n",
       "1  Sovereign country     Zambia     ZMB  ...      잠비아     Zambia     Zambia   \n",
       "2  Sovereign country      Yemen     YEM  ...       예멘      Jemen      Jemen   \n",
       "3  Sovereign country    Vietnam     VNM  ...      베트남    Vietnam    Wietnam   \n",
       "4  Sovereign country  Venezuela     VEN  ...    베네수엘라  Venezuela  Wenezuela   \n",
       "\n",
       "     NAME_PT    NAME_RU    NAME_SV    NAME_TR    NAME_VI NAME_ZH  \\\n",
       "0   Zimbábue   Зимбабве   Zimbabwe   Zimbabve   Zimbabwe     辛巴威   \n",
       "1     Zâmbia     Замбия     Zambia    Zambiya     Zambia     赞比亚   \n",
       "2      Iémen      Йемен      Jemen      Yemen      Yemen      也门   \n",
       "3   Vietname    Вьетнам    Vietnam    Vietnam   Việt Nam      越南   \n",
       "4  Venezuela  Венесуэла  Venezuela  Venezuela  Venezuela    委內瑞拉   \n",
       "\n",
       "                                            geometry  \n",
       "0  POLYGON ((31.28789 -22.40205, 31.19727 -22.344...  \n",
       "1  POLYGON ((30.39609 -15.64307, 30.25068 -15.643...  \n",
       "2  MULTIPOLYGON (((53.08564 16.64839, 52.58145 16...  \n",
       "3  MULTIPOLYGON (((104.06396 10.39082, 104.08301 ...  \n",
       "4  MULTIPOLYGON (((-60.82119 9.13838, -60.94141 9...  \n",
       "\n",
       "[5 rows x 95 columns]"
      ]
     },
     "execution_count": 5,
     "metadata": {},
     "output_type": "execute_result"
    }
   ],
   "source": [
    "world.head()"
   ]
  },
  {
   "cell_type": "markdown",
   "metadata": {},
   "source": [
    "# Pitches"
   ]
  },
  {
   "cell_type": "markdown",
   "metadata": {},
   "source": [
    "## Polygon"
   ]
  },
  {
   "cell_type": "code",
   "execution_count": 6,
   "metadata": {},
   "outputs": [],
   "source": [
    "country_of_choice = 'Germany'\n",
    "cc = 'ge'\n",
    "centre = [52, 10.2] "
   ]
  },
  {
   "cell_type": "code",
   "execution_count": 7,
   "metadata": {},
   "outputs": [],
   "source": [
    "country = world[world.ADMIN == country_of_choice]"
   ]
  },
  {
   "cell_type": "code",
   "execution_count": 8,
   "metadata": {},
   "outputs": [],
   "source": [
    "poly = country.geometry.iloc[0]"
   ]
  },
  {
   "cell_type": "markdown",
   "metadata": {},
   "source": [
    "## Query OSM"
   ]
  },
  {
   "cell_type": "code",
   "execution_count": null,
   "metadata": {},
   "outputs": [],
   "source": [
    "# Download all leisure footprints in our focus area\n",
    "leisure = ox.footprints.footprints_from_polygon(poly, footprint_type='leisure')\n",
    "leisure.loc[:,['geometry', 'leisure', 'note', 'name', 'surface']].to_file('./geojson/osm_leisure_' + cc +'.geojson', driver='GeoJSON')"
   ]
  },
  {
   "cell_type": "markdown",
   "metadata": {},
   "source": [
    "## Filter for soccer pitches"
   ]
  },
  {
   "cell_type": "code",
   "execution_count": null,
   "metadata": {},
   "outputs": [],
   "source": [
    "pitches = leisure[(leisure.leisure=='pitch') | (leisure.leisure=='stadium')]"
   ]
  },
  {
   "cell_type": "code",
   "execution_count": null,
   "metadata": {},
   "outputs": [],
   "source": [
    "soccer = pitches[pitches.sport == 'soccer']"
   ]
  },
  {
   "cell_type": "code",
   "execution_count": null,
   "metadata": {},
   "outputs": [],
   "source": [
    "pd.options.display.max_columns = 300"
   ]
  },
  {
   "cell_type": "code",
   "execution_count": null,
   "metadata": {},
   "outputs": [],
   "source": [
    "soccer.info()"
   ]
  },
  {
   "cell_type": "code",
   "execution_count": null,
   "metadata": {},
   "outputs": [],
   "source": [
    "soccer.head()"
   ]
  },
  {
   "cell_type": "markdown",
   "metadata": {},
   "source": [
    "## Plot"
   ]
  },
  {
   "cell_type": "code",
   "execution_count": null,
   "metadata": {},
   "outputs": [],
   "source": [
    "soccer.loc[:,['geometry', 'leisure', 'note', 'name', 'surface']].to_file('osm_soccer_pitches_' + cc +'.geojson', driver='GeoJSON')"
   ]
  },
  {
   "cell_type": "code",
   "execution_count": null,
   "metadata": {},
   "outputs": [],
   "source": [
    "soccer_x = [point.x for point in soccer.geometry.centroid]\n",
    "soccer_y = [point.y for point in soccer.geometry.centroid]"
   ]
  },
  {
   "cell_type": "code",
   "execution_count": null,
   "metadata": {},
   "outputs": [],
   "source": [
    "tileset_ID_str = \"satellite-v9\"\n",
    "mapbox_access_token = \"pk.eyJ1Ijoic2VieHdvbGYiLCJhIjoiY2pvbmVlbHVvMHV5cjNrcnl3ZnU0cGU3eSJ9.jP3kUXiKwKFXwQyUgutldQ\"\n",
    "tilesize_pixels = '512'\n",
    "mapbox_tile_URL = f\"https://api.mapbox.com/styles/v1/mapbox/{tileset_ID_str}/tiles/{tilesize_pixels}/{{z}}/{{x}}/{{y}}@2x?access_token={mapbox_access_token}\""
   ]
  },
  {
   "cell_type": "code",
   "execution_count": null,
   "metadata": {},
   "outputs": [],
   "source": [
    "m = folium.Map(\n",
    "        location=centre,\n",
    "        tiles=None,\n",
    "        zoom_start=8,\n",
    "        control_scale = True)\n",
    "\n",
    "folium.TileLayer('openstreetmap', name = 'OpenStreetMap').add_to(m)\n",
    "folium.TileLayer(mapbox_tile_URL, attr = 'Mapbox', name = 'Satellite', overlay = False).add_to(m)\n",
    "\n",
    "folium.GeoJson(soccer, name = 'Football Pitches', \n",
    "        style_function= lambda x: {\"weight\": 2, 'color': 'black', 'fillColor': 'blue', 'fillOpacity':0.8},\n",
    "        highlight_function=lambda x: {'weight':4, 'color':'black'},\n",
    "        smooth_factor=1,\n",
    "        show = True,\n",
    "        tooltip=folium.features.GeoJsonTooltip(fields = ['name', 'note', 'surface' , 'source',],\n",
    "                                                  aliases=['Name', 'Note' , 'Surface', 'Source'], \n",
    "                                                  labels=True, \n",
    "                                                  sticky=True,\n",
    "                                                  localize=True\n",
    "                                                 )).add_to(m)\n",
    "\n",
    "soccer_list = zip(soccer_y, soccer_x)\n",
    "for lat, lon in soccer_list:\n",
    "    folium.CircleMarker(location = [lat, lon], \n",
    "                        fill_color = 'green',\n",
    "                        radius = 5,\n",
    "                        color='g',\n",
    "                        fill = True,\n",
    "                        fill_opacity = 0.7).add_to(m)\n",
    "\n",
    "folium.LayerControl().add_to(m)\n",
    "    \n",
    "m.save('./html_maps/osm_soccer_pitches_' + cc +'.html')"
   ]
  },
  {
   "cell_type": "code",
   "execution_count": null,
   "metadata": {},
   "outputs": [],
   "source": [
    "m = folium.Map(\n",
    "        location=centre,\n",
    "        tiles=None,\n",
    "        zoom_start=5,\n",
    "        control_scale = True)\n",
    "\n",
    "folium.TileLayer('openstreetmap', name = 'Map').add_to(m)\n",
    "folium.TileLayer(mapbox_tile_URL, attr = 'Mapbox', name = 'Satellite', overlay = False).add_to(m)\n",
    "\n",
    "soccer_list = zip(soccer_y, soccer_x)\n",
    "for lat, lon in soccer_list:\n",
    "    folium.CircleMarker(location = [lat, lon], \n",
    "                        fill_color = 'green',\n",
    "                        radius = 5,\n",
    "                        color='g',\n",
    "                        fill = True,\n",
    "                        fill_opacity = 0.7).add_to(m)\n",
    "    \n",
    "\n",
    "folium.LayerControl().add_to(m)\n",
    "    \n",
    "m.save('./html_maps/osm_soccer_pitches_centroids_' + cc +'.html')"
   ]
  }
 ],
 "metadata": {
  "environment": {
   "name": "common-cpu.m54",
   "type": "gcloud",
   "uri": "gcr.io/deeplearning-platform-release/base-cpu:m54"
  },
  "kernelspec": {
   "display_name": "Python 3",
   "language": "python",
   "name": "python3"
  },
  "language_info": {
   "codemirror_mode": {
    "name": "ipython",
    "version": 3
   },
   "file_extension": ".py",
   "mimetype": "text/x-python",
   "name": "python",
   "nbconvert_exporter": "python",
   "pygments_lexer": "ipython3",
   "version": "3.7.8"
  }
 },
 "nbformat": 4,
 "nbformat_minor": 4
}
